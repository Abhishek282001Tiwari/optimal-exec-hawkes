{
 "cells": [
  {
   "cell_type": "code",
   "execution_count": null,
   "id": "6b6996d4",
   "metadata": {
    "vscode": {
     "languageId": "plaintext"
    }
   },
   "outputs": [],
   "source": [
    "# %% md\n",
    "# # 02  Back-test Baselines\n",
    "# Compare TWAP, AC, OW, Hawkes-LQ on toy order-flow\n",
    "# %%\n",
    "import numpy as np, pandas as pd, os, matplotlib.pyplot as plt\n",
    "os.makedirs(\"../docs/figures\", exist_ok=True)\n",
    "os.makedirs(\"../docs/tables\", exist_ok=True)\n",
    "# %% 1. load order-flow\n",
    "trace = pd.read_csv(\"../docs/figures/sample_orderflow.csv\")\n",
    "T, x0 = 3_600, 100_000\n",
    "# %% 2. strategy wrappers\n",
    "import sys; sys.path.append(\"..\")\n",
    "from backtest.backtester import (twap_strategy, ac_strategy, ow_strategy, hawkes_lq_strategy,\n",
    "                                 compare_strategies)\n",
    "# pre-compute Hawkes-LQ gains\n",
    "from models.hawkes_control import compute_feedback_gains\n",
    "gains = compute_feedback_gains(\n",
    "        propagator_alphas=np.array([5e-4,2e-4]),\n",
    "        propagator_betas=np.array([10.,50.]),\n",
    "        propagator_rho=5.0,\n",
    "        hawkes_alphas=np.array([0.2,0.15]),\n",
    "        hawkes_betas=np.array([3.,3.]),\n",
    "        hawkes_A=np.array([[0.2,0.15],[0.15,0.2]]),\n",
    "        eta=1e-4, gamma=5e-5, theta=1e-4, T=T, N=120)\n",
    "strategies = {\n",
    "    'TWAP':  (twap_strategy,  dict(N=120, eta=1e-4, gamma=5e-5)),\n",
    "    'AC':    (ac_strategy,    dict(eta=1e-4, gamma=5e-5, sigma=0.02, N=120)),\n",
    "    'OW':    (ow_strategy,    dict(rho=1/30, eta=1e-4, pi=5e-5, N=120)),\n",
    "    'Hawkes-LQ': (hawkes_lq_strategy, dict(\n",
    "        gains=gains,\n",
    "        propagator_alphas=np.array([5e-4,2e-4]),\n",
    "        propagator_betas=np.array([10.,50.]),\n",
    "        propagator_rho=5.0,\n",
    "        hawkes_betas=np.array([3.,3.]),\n",
    "        hawkes_A=np.array([[0.2,0.15],[0.15,0.2]]),\n",
    "        eta=1e-4, gamma=5e-5))\n",
    "# %% 3. run\n",
    "summary = compare_strategies(trace, strategies, x0, T)\n",
    "# %% 4. Table 2\n",
    "summary.to_latex(\"../docs/tables/table2_strategy_comparison.tex\", index=False, float_format=\"%.2f\")\n",
    "summary\n",
    "# %% 5. Figures 3–5\n",
    "from plots.plot_execution import plot_inventory_paths, plot_cost_distribution\n",
    "plot_inventory_paths(); plot_cost_distribution()"
   ]
  }
 ],
 "metadata": {
  "kernelspec": {
   "display_name": "Python (opt-exec-venv)",
   "language": "python",
   "name": "opt-exec"
  },
  "language_info": {
   "codemirror_mode": {
    "name": "ipython",
    "version": 3
   },
   "file_extension": ".py",
   "mimetype": "text/x-python",
   "name": "python",
   "nbconvert_exporter": "python",
   "pygments_lexer": "ipython3",
   "version": "3.13.2"
  }
 },
 "nbformat": 4,
 "nbformat_minor": 5
}
