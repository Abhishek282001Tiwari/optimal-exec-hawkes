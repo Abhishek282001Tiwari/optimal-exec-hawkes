{
 "cells": [
  {
   "cell_type": "code",
   "execution_count": 1,
   "id": "31f13726-6fa9-436f-8989-63ee10fb7b38",
   "metadata": {},
   "outputs": [
    {
     "name": "stdout",
     "output_type": "stream",
     "text": [
      "TRUE  μ=0.100 α=0.500 β=1.000\n",
      "MLE   μ=0.103 α=0.530 β=1.394\n",
      "rel error α:5.9% β:39.4%\n"
     ]
    },
    {
     "name": "stderr",
     "output_type": "stream",
     "text": [
      "baseline grid:   0%|                                                                                                                     | 0/18 [00:00<?, ?it/s]\n",
      "Back-testing:   0%|                                                                                                                       | 0/4 [00:00<?, ?it/s]\u001b[A\n",
      "Back-testing:  25%|███████████████████████████▊                                                                                   | 1/4 [00:00<00:00,  3.68it/s]\u001b[A\n",
      "Back-testing:  50%|███████████████████████████████████████████████████████▌                                                       | 2/4 [00:00<00:00,  3.73it/s]\u001b[A\n",
      "Back-testing:  75%|███████████████████████████████████████████████████████████████████████████████████▎                           | 3/4 [00:00<00:00,  3.68it/s]\u001b[A\n",
      "Back-testing: 100%|███████████████████████████████████████████████████████████████████████████████████████████████████████████████| 4/4 [00:01<00:00,  2.01it/s]\u001b[A\n",
      "baseline grid:   6%|██████                                                                                                       | 1/18 [00:38<10:58, 38.73s/it]"
     ]
    },
    {
     "name": "stdout",
     "output_type": "stream",
     "text": [
      "Summary saved -> docs/figures/strategy_comparison.csv\n",
      "Raw results pickled -> docs/figures/backtest_results.pkl\n"
     ]
    },
    {
     "name": "stderr",
     "output_type": "stream",
     "text": [
      "\n",
      "Back-testing:   0%|                                                                                                                       | 0/4 [00:00<?, ?it/s]\u001b[A\n",
      "Back-testing:  25%|███████████████████████████▊                                                                                   | 1/4 [00:00<00:00,  3.83it/s]\u001b[A\n",
      "Back-testing:  50%|███████████████████████████████████████████████████████▌                                                       | 2/4 [00:00<00:00,  3.86it/s]\u001b[A\n",
      "Back-testing:  75%|███████████████████████████████████████████████████████████████████████████████████▎                           | 3/4 [00:00<00:00,  3.83it/s]\u001b[A\n",
      "Back-testing: 100%|███████████████████████████████████████████████████████████████████████████████████████████████████████████████| 4/4 [00:01<00:00,  2.06it/s]\u001b[A\n",
      "baseline grid:  11%|████████████                                                                                                 | 2/18 [01:15<10:04, 37.80s/it]"
     ]
    },
    {
     "name": "stdout",
     "output_type": "stream",
     "text": [
      "Summary saved -> docs/figures/strategy_comparison.csv\n",
      "Raw results pickled -> docs/figures/backtest_results.pkl\n"
     ]
    },
    {
     "name": "stderr",
     "output_type": "stream",
     "text": [
      "\n",
      "Back-testing:   0%|                                                                                                                       | 0/4 [00:00<?, ?it/s]\u001b[A\n",
      "Back-testing:  25%|███████████████████████████▊                                                                                   | 1/4 [00:00<00:00,  3.78it/s]\u001b[A\n",
      "Back-testing:  50%|███████████████████████████████████████████████████████▌                                                       | 2/4 [00:00<00:00,  3.84it/s]\u001b[A\n",
      "Back-testing:  75%|███████████████████████████████████████████████████████████████████████████████████▎                           | 3/4 [00:00<00:00,  3.82it/s]\u001b[A\n",
      "Back-testing: 100%|███████████████████████████████████████████████████████████████████████████████████████████████████████████████| 4/4 [00:01<00:00,  2.06it/s]\u001b[A\n",
      "baseline grid:  17%|██████████████████▏                                                                                          | 3/18 [01:53<09:22, 37.53s/it]"
     ]
    },
    {
     "name": "stdout",
     "output_type": "stream",
     "text": [
      "Summary saved -> docs/figures/strategy_comparison.csv\n",
      "Raw results pickled -> docs/figures/backtest_results.pkl\n"
     ]
    },
    {
     "name": "stderr",
     "output_type": "stream",
     "text": [
      "\n",
      "Back-testing:   0%|                                                                                                                       | 0/4 [00:00<?, ?it/s]\u001b[A\n",
      "Back-testing:  25%|███████████████████████████▊                                                                                   | 1/4 [00:00<00:00,  3.81it/s]\u001b[A\n",
      "Back-testing:  50%|███████████████████████████████████████████████████████▌                                                       | 2/4 [00:00<00:00,  3.83it/s]\u001b[A\n",
      "Back-testing:  75%|███████████████████████████████████████████████████████████████████████████████████▎                           | 3/4 [00:00<00:00,  3.81it/s]\u001b[A\n",
      "Back-testing: 100%|███████████████████████████████████████████████████████████████████████████████████████████████████████████████| 4/4 [00:01<00:00,  2.06it/s]\u001b[A\n",
      "baseline grid:  22%|████████████████████████▏                                                                                    | 4/18 [02:30<08:42, 37.35s/it]"
     ]
    },
    {
     "name": "stdout",
     "output_type": "stream",
     "text": [
      "Summary saved -> docs/figures/strategy_comparison.csv\n",
      "Raw results pickled -> docs/figures/backtest_results.pkl\n"
     ]
    },
    {
     "name": "stderr",
     "output_type": "stream",
     "text": [
      "\n",
      "Back-testing:   0%|                                                                                                                       | 0/4 [00:00<?, ?it/s]\u001b[A\n",
      "Back-testing:  25%|███████████████████████████▊                                                                                   | 1/4 [00:00<00:00,  3.86it/s]\u001b[A\n",
      "Back-testing:  50%|███████████████████████████████████████████████████████▌                                                       | 2/4 [00:00<00:00,  3.86it/s]\u001b[A\n",
      "Back-testing:  75%|███████████████████████████████████████████████████████████████████████████████████▎                           | 3/4 [00:00<00:00,  3.82it/s]\u001b[A\n",
      "Back-testing: 100%|███████████████████████████████████████████████████████████████████████████████████████████████████████████████| 4/4 [00:01<00:00,  2.06it/s]\u001b[A\n",
      "baseline grid:  28%|██████████████████████████████▎                                                                              | 5/18 [03:06<08:02, 37.11s/it]"
     ]
    },
    {
     "name": "stdout",
     "output_type": "stream",
     "text": [
      "Summary saved -> docs/figures/strategy_comparison.csv\n",
      "Raw results pickled -> docs/figures/backtest_results.pkl\n"
     ]
    },
    {
     "name": "stderr",
     "output_type": "stream",
     "text": [
      "\n",
      "Back-testing:   0%|                                                                                                                       | 0/4 [00:00<?, ?it/s]\u001b[A\n",
      "Back-testing:  25%|███████████████████████████▊                                                                                   | 1/4 [00:00<00:00,  3.71it/s]\u001b[A\n",
      "Back-testing:  50%|███████████████████████████████████████████████████████▌                                                       | 2/4 [00:00<00:00,  3.76it/s]\u001b[A\n",
      "Back-testing:  75%|███████████████████████████████████████████████████████████████████████████████████▎                           | 3/4 [00:00<00:00,  3.73it/s]\u001b[A\n",
      "Back-testing: 100%|███████████████████████████████████████████████████████████████████████████████████████████████████████████████| 4/4 [00:01<00:00,  2.04it/s]\u001b[A\n",
      "baseline grid:  33%|████████████████████████████████████▎                                                                        | 6/18 [03:44<07:26, 37.20s/it]"
     ]
    },
    {
     "name": "stdout",
     "output_type": "stream",
     "text": [
      "Summary saved -> docs/figures/strategy_comparison.csv\n",
      "Raw results pickled -> docs/figures/backtest_results.pkl\n"
     ]
    },
    {
     "name": "stderr",
     "output_type": "stream",
     "text": [
      "\n",
      "Back-testing:   0%|                                                                                                                       | 0/4 [00:00<?, ?it/s]\u001b[A\n",
      "Back-testing:  25%|███████████████████████████▊                                                                                   | 1/4 [00:00<00:00,  3.60it/s]\u001b[A\n",
      "Back-testing:  50%|███████████████████████████████████████████████████████▌                                                       | 2/4 [00:00<00:00,  3.72it/s]\u001b[A\n",
      "Back-testing:  75%|███████████████████████████████████████████████████████████████████████████████████▎                           | 3/4 [00:00<00:00,  3.74it/s]\u001b[A\n",
      "Back-testing: 100%|███████████████████████████████████████████████████████████████████████████████████████████████████████████████| 4/4 [00:01<00:00,  2.04it/s]\u001b[A\n",
      "baseline grid:  39%|██████████████████████████████████████████▍                                                                  | 7/18 [05:23<10:33, 57.58s/it]"
     ]
    },
    {
     "name": "stdout",
     "output_type": "stream",
     "text": [
      "Summary saved -> docs/figures/strategy_comparison.csv\n",
      "Raw results pickled -> docs/figures/backtest_results.pkl\n"
     ]
    },
    {
     "name": "stderr",
     "output_type": "stream",
     "text": [
      "\n",
      "Back-testing:   0%|                                                                                                                       | 0/4 [00:00<?, ?it/s]\u001b[A\n",
      "Back-testing:  25%|███████████████████████████▊                                                                                   | 1/4 [00:00<00:00,  3.62it/s]\u001b[A\n",
      "Back-testing:  50%|███████████████████████████████████████████████████████▌                                                       | 2/4 [00:00<00:00,  3.73it/s]\u001b[A\n",
      "Back-testing:  75%|███████████████████████████████████████████████████████████████████████████████████▎                           | 3/4 [00:00<00:00,  3.51it/s]\u001b[A\n",
      "Back-testing: 100%|███████████████████████████████████████████████████████████████████████████████████████████████████████████████| 4/4 [00:02<00:00,  1.94it/s]\u001b[A\n",
      "baseline grid:  44%|████████████████████████████████████████████████▍                                                            | 8/18 [07:07<12:02, 72.24s/it]"
     ]
    },
    {
     "name": "stdout",
     "output_type": "stream",
     "text": [
      "Summary saved -> docs/figures/strategy_comparison.csv\n",
      "Raw results pickled -> docs/figures/backtest_results.pkl\n"
     ]
    },
    {
     "name": "stderr",
     "output_type": "stream",
     "text": [
      "\n",
      "Back-testing:   0%|                                                                                                                       | 0/4 [00:00<?, ?it/s]\u001b[A\n",
      "Back-testing:  25%|███████████████████████████▊                                                                                   | 1/4 [00:00<00:00,  3.71it/s]\u001b[A\n",
      "Back-testing:  50%|███████████████████████████████████████████████████████▌                                                       | 2/4 [00:00<00:00,  3.79it/s]\u001b[A\n",
      "Back-testing:  75%|███████████████████████████████████████████████████████████████████████████████████▎                           | 3/4 [00:00<00:00,  3.79it/s]\u001b[A\n",
      "Back-testing: 100%|███████████████████████████████████████████████████████████████████████████████████████████████████████████████| 4/4 [00:01<00:00,  2.06it/s]\u001b[A\n",
      "baseline grid:  50%|██████████████████████████████████████████████████████▌                                                      | 9/18 [08:49<12:15, 81.72s/it]"
     ]
    },
    {
     "name": "stdout",
     "output_type": "stream",
     "text": [
      "Summary saved -> docs/figures/strategy_comparison.csv\n",
      "Raw results pickled -> docs/figures/backtest_results.pkl\n"
     ]
    },
    {
     "name": "stderr",
     "output_type": "stream",
     "text": [
      "\n",
      "Back-testing:   0%|                                                                                                                       | 0/4 [00:00<?, ?it/s]\u001b[A\n",
      "Back-testing:  25%|███████████████████████████▊                                                                                   | 1/4 [00:00<00:00,  3.79it/s]\u001b[A\n",
      "Back-testing:  50%|███████████████████████████████████████████████████████▌                                                       | 2/4 [00:00<00:00,  3.68it/s]\u001b[A\n",
      "Back-testing:  75%|███████████████████████████████████████████████████████████████████████████████████▎                           | 3/4 [00:00<00:00,  3.71it/s]\u001b[A\n",
      "Back-testing: 100%|███████████████████████████████████████████████████████████████████████████████████████████████████████████████| 4/4 [00:01<00:00,  2.04it/s]\u001b[A\n",
      "baseline grid:  56%|████████████████████████████████████████████████████████████                                                | 10/18 [10:27<11:33, 86.66s/it]"
     ]
    },
    {
     "name": "stdout",
     "output_type": "stream",
     "text": [
      "Summary saved -> docs/figures/strategy_comparison.csv\n",
      "Raw results pickled -> docs/figures/backtest_results.pkl\n"
     ]
    },
    {
     "name": "stderr",
     "output_type": "stream",
     "text": [
      "\n",
      "Back-testing:   0%|                                                                                                                       | 0/4 [00:00<?, ?it/s]\u001b[A\n",
      "Back-testing:  25%|███████████████████████████▊                                                                                   | 1/4 [00:00<00:00,  3.81it/s]\u001b[A\n",
      "Back-testing:  50%|███████████████████████████████████████████████████████▌                                                       | 2/4 [00:00<00:00,  3.85it/s]\u001b[A\n",
      "Back-testing:  75%|███████████████████████████████████████████████████████████████████████████████████▎                           | 3/4 [00:00<00:00,  3.81it/s]\u001b[A\n",
      "Back-testing: 100%|███████████████████████████████████████████████████████████████████████████████████████████████████████████████| 4/4 [00:01<00:00,  2.07it/s]\u001b[A\n",
      "baseline grid:  61%|██████████████████████████████████████████████████████████████████                                          | 11/18 [12:05<10:29, 90.00s/it]"
     ]
    },
    {
     "name": "stdout",
     "output_type": "stream",
     "text": [
      "Summary saved -> docs/figures/strategy_comparison.csv\n",
      "Raw results pickled -> docs/figures/backtest_results.pkl\n"
     ]
    },
    {
     "name": "stderr",
     "output_type": "stream",
     "text": [
      "\n",
      "Back-testing:   0%|                                                                                                                       | 0/4 [00:00<?, ?it/s]\u001b[A\n",
      "Back-testing:  25%|███████████████████████████▊                                                                                   | 1/4 [00:00<00:00,  3.84it/s]\u001b[A\n",
      "Back-testing:  50%|███████████████████████████████████████████████████████▌                                                       | 2/4 [00:00<00:00,  3.85it/s]\u001b[A\n",
      "Back-testing:  75%|███████████████████████████████████████████████████████████████████████████████████▎                           | 3/4 [00:00<00:00,  3.82it/s]\u001b[A\n",
      "Back-testing: 100%|███████████████████████████████████████████████████████████████████████████████████████████████████████████████| 4/4 [00:01<00:00,  2.07it/s]\u001b[A\n",
      "baseline grid:  67%|████████████████████████████████████████████████████████████████████████                                    | 12/18 [13:43<09:15, 92.55s/it]"
     ]
    },
    {
     "name": "stdout",
     "output_type": "stream",
     "text": [
      "Summary saved -> docs/figures/strategy_comparison.csv\n",
      "Raw results pickled -> docs/figures/backtest_results.pkl\n"
     ]
    },
    {
     "name": "stderr",
     "output_type": "stream",
     "text": [
      "\n",
      "Back-testing:   0%|                                                                                                                       | 0/4 [00:00<?, ?it/s]\u001b[A\n",
      "Back-testing:  25%|███████████████████████████▊                                                                                   | 1/4 [00:00<00:00,  3.82it/s]\u001b[A\n",
      "Back-testing:  50%|███████████████████████████████████████████████████████▌                                                       | 2/4 [00:00<00:00,  3.86it/s]\u001b[A\n",
      "Back-testing:  75%|███████████████████████████████████████████████████████████████████████████████████▎                           | 3/4 [00:00<00:00,  3.82it/s]\u001b[A\n",
      "Back-testing: 100%|███████████████████████████████████████████████████████████████████████████████████████████████████████████████| 4/4 [00:01<00:00,  2.07it/s]\u001b[A\n",
      "baseline grid:  72%|█████████████████████████████████████████████████████████████████████████████▎                             | 13/18 [17:02<10:24, 124.87s/it]"
     ]
    },
    {
     "name": "stdout",
     "output_type": "stream",
     "text": [
      "Summary saved -> docs/figures/strategy_comparison.csv\n",
      "Raw results pickled -> docs/figures/backtest_results.pkl\n"
     ]
    },
    {
     "name": "stderr",
     "output_type": "stream",
     "text": [
      "\n",
      "Back-testing:   0%|                                                                                                                       | 0/4 [00:00<?, ?it/s]\u001b[A\n",
      "Back-testing:  25%|███████████████████████████▊                                                                                   | 1/4 [00:00<00:00,  3.80it/s]\u001b[A\n",
      "Back-testing:  50%|███████████████████████████████████████████████████████▌                                                       | 2/4 [00:00<00:00,  3.85it/s]\u001b[A\n",
      "Back-testing:  75%|███████████████████████████████████████████████████████████████████████████████████▎                           | 3/4 [00:00<00:00,  3.82it/s]\u001b[A\n",
      "Back-testing: 100%|███████████████████████████████████████████████████████████████████████████████████████████████████████████████| 4/4 [00:01<00:00,  2.07it/s]\u001b[A\n",
      "baseline grid:  78%|███████████████████████████████████████████████████████████████████████████████████▏                       | 14/18 [20:21<09:49, 147.27s/it]"
     ]
    },
    {
     "name": "stdout",
     "output_type": "stream",
     "text": [
      "Summary saved -> docs/figures/strategy_comparison.csv\n",
      "Raw results pickled -> docs/figures/backtest_results.pkl\n"
     ]
    },
    {
     "name": "stderr",
     "output_type": "stream",
     "text": [
      "\n",
      "Back-testing:   0%|                                                                                                                       | 0/4 [00:00<?, ?it/s]\u001b[A\n",
      "Back-testing:  25%|███████████████████████████▊                                                                                   | 1/4 [00:00<00:00,  3.78it/s]\u001b[A\n",
      "Back-testing:  50%|███████████████████████████████████████████████████████▌                                                       | 2/4 [00:00<00:00,  3.83it/s]\u001b[A\n",
      "Back-testing:  75%|███████████████████████████████████████████████████████████████████████████████████▎                           | 3/4 [00:00<00:00,  3.81it/s]\u001b[A\n",
      "Back-testing: 100%|███████████████████████████████████████████████████████████████████████████████████████████████████████████████| 4/4 [00:01<00:00,  2.07it/s]\u001b[A\n",
      "baseline grid:  83%|█████████████████████████████████████████████████████████████████████████████████████████▏                 | 15/18 [23:41<08:09, 163.13s/it]"
     ]
    },
    {
     "name": "stdout",
     "output_type": "stream",
     "text": [
      "Summary saved -> docs/figures/strategy_comparison.csv\n",
      "Raw results pickled -> docs/figures/backtest_results.pkl\n"
     ]
    },
    {
     "name": "stderr",
     "output_type": "stream",
     "text": [
      "\n",
      "Back-testing:   0%|                                                                                                                       | 0/4 [00:00<?, ?it/s]\u001b[A\n",
      "Back-testing:  25%|███████████████████████████▊                                                                                   | 1/4 [00:00<00:00,  3.64it/s]\u001b[A\n",
      "Back-testing:  50%|███████████████████████████████████████████████████████▌                                                       | 2/4 [00:00<00:00,  3.76it/s]\u001b[A\n",
      "Back-testing:  75%|███████████████████████████████████████████████████████████████████████████████████▎                           | 3/4 [00:00<00:00,  3.77it/s]\u001b[A\n",
      "Back-testing: 100%|███████████████████████████████████████████████████████████████████████████████████████████████████████████████| 4/4 [00:01<00:00,  2.05it/s]\u001b[A\n",
      "baseline grid:  89%|███████████████████████████████████████████████████████████████████████████████████████████████            | 16/18 [27:01<05:48, 174.09s/it]"
     ]
    },
    {
     "name": "stdout",
     "output_type": "stream",
     "text": [
      "Summary saved -> docs/figures/strategy_comparison.csv\n",
      "Raw results pickled -> docs/figures/backtest_results.pkl\n"
     ]
    },
    {
     "name": "stderr",
     "output_type": "stream",
     "text": [
      "\n",
      "Back-testing:   0%|                                                                                                                       | 0/4 [00:00<?, ?it/s]\u001b[A\n",
      "Back-testing:  25%|███████████████████████████▊                                                                                   | 1/4 [00:00<00:00,  3.77it/s]\u001b[A\n",
      "Back-testing:  50%|███████████████████████████████████████████████████████▌                                                       | 2/4 [00:00<00:00,  3.83it/s]\u001b[A\n",
      "Back-testing:  75%|███████████████████████████████████████████████████████████████████████████████████▎                           | 3/4 [00:00<00:00,  3.82it/s]\u001b[A\n",
      "Back-testing: 100%|███████████████████████████████████████████████████████████████████████████████████████████████████████████████| 4/4 [00:01<00:00,  2.05it/s]\u001b[A\n",
      "baseline grid:  94%|█████████████████████████████████████████████████████████████████████████████████████████████████████      | 17/18 [30:20<03:01, 181.75s/it]"
     ]
    },
    {
     "name": "stdout",
     "output_type": "stream",
     "text": [
      "Summary saved -> docs/figures/strategy_comparison.csv\n",
      "Raw results pickled -> docs/figures/backtest_results.pkl\n"
     ]
    },
    {
     "name": "stderr",
     "output_type": "stream",
     "text": [
      "\n",
      "Back-testing:   0%|                                                                                                                       | 0/4 [00:00<?, ?it/s]\u001b[A\n",
      "Back-testing:  25%|███████████████████████████▊                                                                                   | 1/4 [00:00<00:00,  3.79it/s]\u001b[A\n",
      "Back-testing:  50%|███████████████████████████████████████████████████████▌                                                       | 2/4 [00:00<00:00,  3.83it/s]\u001b[A\n",
      "Back-testing:  75%|███████████████████████████████████████████████████████████████████████████████████▎                           | 3/4 [00:00<00:00,  3.81it/s]\u001b[A\n",
      "Back-testing: 100%|███████████████████████████████████████████████████████████████████████████████████████████████████████████████| 4/4 [00:01<00:00,  2.06it/s]\u001b[A\n",
      "baseline grid: 100%|███████████████████████████████████████████████████████████████████████████████████████████████████████████| 18/18 [33:40<00:00, 112.27s/it]\n"
     ]
    },
    {
     "name": "stdout",
     "output_type": "stream",
     "text": [
      "Summary saved -> docs/figures/strategy_comparison.csv\n",
      "Raw results pickled -> docs/figures/backtest_results.pkl\n",
      "baseline grid done → baseline_comparison.csv\n"
     ]
    },
    {
     "data": {
      "image/png": "[encoded data removed]",
      "text/plain": [
       "<Figure size 400x300 with 2 Axes>"
      ]
     },
     "metadata": {},
     "output_type": "display_data"
    },
    {
     "name": "stderr",
     "output_type": "stream",
     "text": [
      "psi grid:   0%|                                                                                                                           | 0/9 [00:00<?, ?it/s]\n",
      "Back-testing:   0%|                                                                                                                       | 0/2 [00:00<?, ?it/s]\u001b[A\n",
      "Back-testing:  50%|███████████████████████████████████████████████████████▌                                                       | 1/2 [00:00<00:00,  3.83it/s]\u001b[A\n",
      "Back-testing: 100%|███████████████████████████████████████████████████████████████████████████████████████████████████████████████| 2/2 [00:01<00:00,  1.38it/s]\u001b[A\n",
      "psi grid:  11%|████████████▊                                                                                                      | 1/9 [00:36<04:48, 36.10s/it]"
     ]
    },
    {
     "name": "stdout",
     "output_type": "stream",
     "text": [
      "Summary saved -> docs/figures/strategy_comparison.csv\n",
      "Raw results pickled -> docs/figures/backtest_results.pkl\n"
     ]
    },
    {
     "name": "stderr",
     "output_type": "stream",
     "text": [
      "\n",
      "Back-testing:   0%|                                                                                                                       | 0/2 [00:00<?, ?it/s]\u001b[A\n",
      "Back-testing:  50%|███████████████████████████████████████████████████████▌                                                       | 1/2 [00:00<00:00,  3.82it/s]\u001b[A\n",
      "Back-testing: 100%|███████████████████████████████████████████████████████████████████████████████████████████████████████████████| 2/2 [00:01<00:00,  1.41it/s]\u001b[A\n",
      "psi grid:  22%|█████████████████████████▌                                                                                         | 2/9 [01:12<04:13, 36.21s/it]"
     ]
    },
    {
     "name": "stdout",
     "output_type": "stream",
     "text": [
      "Summary saved -> docs/figures/strategy_comparison.csv\n",
      "Raw results pickled -> docs/figures/backtest_results.pkl\n"
     ]
    },
    {
     "name": "stderr",
     "output_type": "stream",
     "text": [
      "\n",
      "Back-testing:   0%|                                                                                                                       | 0/2 [00:00<?, ?it/s]\u001b[A\n",
      "Back-testing:  50%|███████████████████████████████████████████████████████▌                                                       | 1/2 [00:00<00:00,  3.85it/s]\u001b[A\n",
      "Back-testing: 100%|███████████████████████████████████████████████████████████████████████████████████████████████████████████████| 2/2 [00:01<00:00,  1.41it/s]\u001b[A\n",
      "psi grid:  33%|██████████████████████████████████████▎                                                                            | 3/9 [01:48<03:36, 36.16s/it]"
     ]
    },
    {
     "name": "stdout",
     "output_type": "stream",
     "text": [
      "Summary saved -> docs/figures/strategy_comparison.csv\n",
      "Raw results pickled -> docs/figures/backtest_results.pkl\n"
     ]
    },
    {
     "name": "stderr",
     "output_type": "stream",
     "text": [
      "\n",
      "Back-testing:   0%|                                                                                                                       | 0/2 [00:00<?, ?it/s]\u001b[A\n",
      "Back-testing:  50%|███████████████████████████████████████████████████████▌                                                       | 1/2 [00:00<00:00,  3.81it/s]\u001b[A\n",
      "Back-testing: 100%|███████████████████████████████████████████████████████████████████████████████████████████████████████████████| 2/2 [00:01<00:00,  1.40it/s]\u001b[A\n",
      "psi grid:  44%|███████████████████████████████████████████████████                                                                | 4/9 [03:26<05:02, 60.46s/it]"
     ]
    },
    {
     "name": "stdout",
     "output_type": "stream",
     "text": [
      "Summary saved -> docs/figures/strategy_comparison.csv\n",
      "Raw results pickled -> docs/figures/backtest_results.pkl\n"
     ]
    },
    {
     "name": "stderr",
     "output_type": "stream",
     "text": [
      "\n",
      "Back-testing:   0%|                                                                                                                       | 0/2 [00:00<?, ?it/s]\u001b[A\n",
      "Back-testing:  50%|███████████████████████████████████████████████████████▌                                                       | 1/2 [00:00<00:00,  3.78it/s]\u001b[A\n",
      "Back-testing: 100%|███████████████████████████████████████████████████████████████████████████████████████████████████████████████| 2/2 [00:01<00:00,  1.41it/s]\u001b[A\n",
      "psi grid:  56%|███████████████████████████████████████████████████████████████▉                                                   | 5/9 [05:03<04:54, 73.70s/it]"
     ]
    },
    {
     "name": "stdout",
     "output_type": "stream",
     "text": [
      "Summary saved -> docs/figures/strategy_comparison.csv\n",
      "Raw results pickled -> docs/figures/backtest_results.pkl\n"
     ]
    },
    {
     "name": "stderr",
     "output_type": "stream",
     "text": [
      "\n",
      "Back-testing:   0%|                                                                                                                       | 0/2 [00:00<?, ?it/s]\u001b[A\n",
      "Back-testing:  50%|███████████████████████████████████████████████████████▌                                                       | 1/2 [00:00<00:00,  3.59it/s]\u001b[A\n",
      "Back-testing: 100%|███████████████████████████████████████████████████████████████████████████████████████████████████████████████| 2/2 [00:01<00:00,  1.40it/s]\u001b[A\n",
      "psi grid:  67%|████████████████████████████████████████████████████████████████████████████▋                                      | 6/9 [06:41<04:05, 81.88s/it]"
     ]
    },
    {
     "name": "stdout",
     "output_type": "stream",
     "text": [
      "Summary saved -> docs/figures/strategy_comparison.csv\n",
      "Raw results pickled -> docs/figures/backtest_results.pkl\n"
     ]
    },
    {
     "name": "stderr",
     "output_type": "stream",
     "text": [
      "\n",
      "Back-testing:   0%|                                                                                                                       | 0/2 [00:00<?, ?it/s]\u001b[A\n",
      "Back-testing:  50%|███████████████████████████████████████████████████████▌                                                       | 1/2 [00:00<00:00,  3.68it/s]\u001b[A\n",
      "Back-testing: 100%|███████████████████████████████████████████████████████████████████████████████████████████████████████████████| 2/2 [00:01<00:00,  1.41it/s]\u001b[A\n",
      "psi grid:  78%|████████████████████████████████████████████████████████████████████████████████████████▋                         | 7/9 [10:03<04:02, 121.40s/it]"
     ]
    },
    {
     "name": "stdout",
     "output_type": "stream",
     "text": [
      "Summary saved -> docs/figures/strategy_comparison.csv\n",
      "Raw results pickled -> docs/figures/backtest_results.pkl\n"
     ]
    },
    {
     "name": "stderr",
     "output_type": "stream",
     "text": [
      "\n",
      "Back-testing:   0%|                                                                                                                       | 0/2 [00:00<?, ?it/s]\u001b[A\n",
      "Back-testing:  50%|███████████████████████████████████████████████████████▌                                                       | 1/2 [00:00<00:00,  3.58it/s]\u001b[A\n",
      "Back-testing: 100%|███████████████████████████████████████████████████████████████████████████████████████████████████████████████| 2/2 [00:01<00:00,  1.39it/s]\u001b[A\n",
      "psi grid:  89%|█████████████████████████████████████████████████████████████████████████████████████████████████████▎            | 8/9 [13:28<02:27, 147.86s/it]"
     ]
    },
    {
     "name": "stdout",
     "output_type": "stream",
     "text": [
      "Summary saved -> docs/figures/strategy_comparison.csv\n",
      "Raw results pickled -> docs/figures/backtest_results.pkl\n"
     ]
    },
    {
     "name": "stderr",
     "output_type": "stream",
     "text": [
      "\n",
      "Back-testing:   0%|                                                                                                                       | 0/2 [00:00<?, ?it/s]\u001b[A\n",
      "Back-testing:  50%|███████████████████████████████████████████████████████▌                                                       | 1/2 [00:00<00:00,  3.59it/s]\u001b[A\n",
      "Back-testing: 100%|███████████████████████████████████████████████████████████████████████████████████████████████████████████████| 2/2 [00:01<00:00,  1.28it/s]\u001b[A\n",
      "psi grid: 100%|██████████████████████████████████████████████████████████████████████████████████████████████████████████████████| 9/9 [16:50<00:00, 112.22s/it]\n"
     ]
    },
    {
     "name": "stdout",
     "output_type": "stream",
     "text": [
      "Summary saved -> docs/figures/strategy_comparison.csv\n",
      "Raw results pickled -> docs/figures/backtest_results.pkl\n",
      "experiment matrix complete → docs/figures/ & docs/tables/\n"
     ]
    },
    {
     "name": "stderr",
     "output_type": "stream",
     "text": [
      "/var/folders/vn/4l8kxhbd71n3vhrdqvs1fr6m0000gn/T/ipykernel_24904/2138617003.py:169: UserWarning: FigureCanvasAgg is non-interactive, and thus cannot be shown\n",
      "  plt.show()\n"
     ]
    },
    {
     "data": {
      "image/png": "[encoded data removed]",
      "text/plain": [
       "<Figure size 400x250 with 1 Axes>"
      ]
     },
     "metadata": {},
     "output_type": "display_data"
    }
   ],
   "source": [
    "import warnings, numpy as np\n",
    "warnings.filterwarnings(\"ignore\", category=RuntimeWarning, module=\"models.hawkes_control\")\n",
    "\n",
    "# %% md\n",
    "# # 04  Experiment Matrix\n",
    "# Complete calibration + baseline comparison + sensitivity + endogenous feedback\n",
    "# %%\n",
    "import numpy as np, pandas as pd, matplotlib.pyplot as plt, os, itertools, pickle\n",
    "from tqdm import tqdm\n",
    "os.makedirs(\"../docs/figures\", exist_ok=True)\n",
    "os.makedirs(\"../docs/tables\", exist_ok=True)\n",
    "# %% 1.  CALIBRATION SANITY  (1000 s, n=0.5)\n",
    "import sys; sys.path.append(\"..\")\n",
    "from sim.simulate_hawkes import simulate_hawkes_ogata\n",
    "from calib.hawkes_mle import hawkes_mle\n",
    "T_cal = 1_000\n",
    "mu_true, alpha_true, beta_true = 0.1, 0.5, 1.0\n",
    "times, _ = simulate_hawkes_ogata(T_cal, mu_true, [alpha_true], [beta_true], seed=1)\n",
    "params, stderr = hawkes_mle(times, kernel=\"exp\")\n",
    "mu_hat, alpha_hat, beta_hat = params['mu'][0], params['alpha'][0], params['beta'][0]\n",
    "print(f\"TRUE  μ={mu_true:.3f} α={alpha_true:.3f} β={beta_true:.3f}\")\n",
    "print(f\"MLE   μ={mu_hat:.3f} α={alpha_hat:.3f} β={beta_hat:.3f}\")\n",
    "print(f\"rel error α:{abs(alpha_hat-alpha_true)/alpha_true:.1%} β:{abs(beta_hat-beta_true)/beta_true:.1%}\")\n",
    "# %% 2.  BASELINE COMPARISON  (single scenario grid)\n",
    "from sim.simulate_orderflow import simulate_orderbook_sequence\n",
    "from backtest.backtester import compare_strategies, twap_strategy, ac_strategy, ow_strategy, hawkes_lq_strategy\n",
    "from models.hawkes_control import compute_feedback_gains\n",
    "X0, T_exp, dt = 1_000, 3_600, 1.0\n",
    "branching = [0.2, 0.5, 0.8]\n",
    "resilience = [5.0, 1.0, 0.1]\n",
    "eta_list = [1e-4, 5e-4]\n",
    "records = []\n",
    "for br, rho, eta in tqdm(list(itertools.product(branching, resilience, eta_list)), desc=\"baseline grid\"):\n",
    "    # Hawkes params\n",
    "    beta_hk = 1.0\n",
    "    alpha_hk = br * beta_hk\n",
    "    A = np.array([[alpha_hk, alpha_hk*0.7],\n",
    "                  [alpha_hk*0.7, alpha_hk]])\n",
    "    betas_hk = np.array([[beta_hk, beta_hk],\n",
    "                         [beta_hk, beta_hk]])\n",
    "    # generate 1 trace\n",
    "    trace = simulate_orderbook_sequence(\n",
    "        T_exp,\n",
    "        dict(mu_vec=np.array([0.5, 0.5]), A=A, betas=betas_hk),\n",
    "        dict(permanent=0.0, transient=dict(alphas=np.array([5e-4,2e-4]),\n",
    "                                           betas=np.array([10.,50.])), rho=rho),\n",
    "        dict(name='fixed', size=10), initial_price=100, dt_ms=1_000*dt, seed=42\n",
    "    )\n",
    "    # pre-compute LQ gains\n",
    "    gains = compute_feedback_gains(\n",
    "        np.array([5e-4,2e-4]), np.array([10.,50.]), rho,\n",
    "        np.array([alpha_hk, alpha_hk*0.7]), np.array([beta_hk, beta_hk]), A,\n",
    "        eta, 5e-5, 1e-4, T_exp, int(T_exp/dt)\n",
    "    )\n",
    "    strategies = {\n",
    "        'TWAP':  (twap_strategy,  dict(N=int(T_exp/dt), eta=eta, gamma=5e-5)),\n",
    "        'AC':    (ac_strategy,    dict(eta=eta, gamma=5e-5, sigma=0.02, N=int(T_exp/dt))),\n",
    "        'OW':    (ow_strategy,    dict(rho=rho, eta=eta, pi=5e-5, N=int(T_exp/dt))),\n",
    "        'Hawkes-LQ': (hawkes_lq_strategy, dict(\n",
    "            gains=gains,\n",
    "            propagator_alphas=np.array([5e-4,2e-4]),\n",
    "            propagator_betas=np.array([10.,50.]),\n",
    "            propagator_rho=rho,\n",
    "            hawkes_betas=np.array([beta_hk, beta_hk]),\n",
    "            hawkes_A=A,\n",
    "            eta=eta, gamma=5e-5))\n",
    "    }\n",
    "    summary = compare_strategies(trace, strategies, X0, T_exp)\n",
    "    for _, row in summary.iterrows():\n",
    "        records.append({'branching': br, 'resilience': rho, 'eta': eta,\n",
    "                        'strategy': row['strategy'],\n",
    "                        'mean_cost': row['mean_cost'],\n",
    "                        'std_cost': row.get('std_cost', np.nan),\n",
    "                        'VaR_95': row['VaR_95'],\n",
    "                        'completion_var': row.get('realised_var', np.nan)})\n",
    "baseline_df = pd.DataFrame(records)\n",
    "baseline_df.to_csv(\"../docs/tables/baseline_comparison.csv\", index=False)\n",
    "print(\"baseline grid done → baseline_comparison.csv\")\n",
    "# %% 3.  SENSITIVITY HEATMAP  (Hawkes-LQ vs AC)\n",
    "ac  = (baseline_df.query(\"strategy == 'AC'\")\n",
    "       .groupby(['branching','resilience'])['mean_cost'].mean())\n",
    "lq  = (baseline_df.query(\"strategy == 'Hawkes-LQ'\")\n",
    "       .groupby(['branching','resilience'])['mean_cost'].mean())\n",
    "rel = ((lq - ac) / ac * 100).unstack()\n",
    "\n",
    "plt.figure(figsize=(4,3))\n",
    "sns = plt.imshow(rel.values, aspect='auto', cmap='RdBu_r',\n",
    "                 extent=[resilience[0], resilience[-1], branching[0], branching[-1]])\n",
    "plt.xlabel(\"resilience speed ρ (1/s)\")\n",
    "plt.ylabel(\"branching ratio\")\n",
    "cbar = plt.colorbar(sns); cbar.set_label('rel. cost saving (%)')\n",
    "plt.title(\"Hawkes-LQ vs AC\")\n",
    "plt.tight_layout()\n",
    "plt.savefig(\"../docs/figures/sensitivity_heatmap.pdf\")\n",
    "plt.show()\n",
    "# %% 4.  ENDOGENOUS FEEDBACK  (small Psi)\n",
    "Psi = 0.01  # agent excitation\n",
    "psi_records = []\n",
    "for br, rho in tqdm(list(itertools.product(branching, resilience)), desc=\"psi grid\"):\n",
    "    beta_hk = 1.0; alpha_hk = br * beta_hk\n",
    "    A = np.array([[alpha_hk, alpha_hk*0.7],\n",
    "                  [alpha_hk*0.7, alpha_hk]])\n",
    "    betas_hk = np.array([[beta_hk, beta_hk],\n",
    "                         [beta_hk, beta_hk]])\n",
    "    trace = simulate_orderbook_sequence(\n",
    "        T_exp,\n",
    "        dict(mu_vec=np.array([0.5, 0.5]), A=A, betas=betas_hk),\n",
    "        dict(permanent=0.0, transient=dict(alphas=np.array([5e-4,2e-4]),\n",
    "                                           betas=np.array([10.,50.])), rho=rho),\n",
    "        dict(name='fixed', size=10), initial_price=100, dt_ms=1_000*dt, seed=42\n",
    "    )\n",
    "    # LQ with Psi\n",
    "    gains = compute_feedback_gains(\n",
    "        np.array([5e-4,2e-4]), np.array([10.,50.]), rho,\n",
    "        np.array([alpha_hk, alpha_hk*0.7]), np.array([beta_hk, beta_hk]), A,\n",
    "        1e-4, 5e-5, 1e-4, T_exp, int(T_exp/dt),\n",
    "        agent_excitation=True, agent_Psi=np.array([Psi, Psi])\n",
    "    )\n",
    "    strategies = {\n",
    "        'AC':    (ac_strategy,    dict(eta=1e-4, gamma=5e-5, sigma=0.02, N=int(T_exp/dt))),\n",
    "        'Hawkes-LQ-ψ': (hawkes_lq_strategy, dict(\n",
    "            gains=gains,\n",
    "            propagator_alphas=np.array([5e-4,2e-4]),\n",
    "            propagator_betas=np.array([10.,50.]),\n",
    "            propagator_rho=rho,\n",
    "            hawkes_betas=np.array([beta_hk, beta_hk]),\n",
    "            hawkes_A=A,\n",
    "            eta=1e-4, gamma=5e-5))\n",
    "    }\n",
    "    summary = compare_strategies(trace, strategies, X0, T_exp)\n",
    "    for _, row in summary.iterrows():\n",
    "        psi_records.append({'branching': br, 'resilience': rho,\n",
    "                            'strategy': row['strategy'],\n",
    "                            'mean_cost': row['mean_cost']})\n",
    "psi_df = pd.DataFrame(psi_records)\n",
    "psi_df.to_csv(\"../docs/tables/psi_comparison.csv\", index=False)\n",
    "# %% 5.  PLOTS  (kernel true vs estimated)\n",
    "from calib.propagator_estimation import estimate_propagator_regression, fit_multi_exponential\n",
    "\n",
    "# use the trace from br=0.5, rho=1.0, eta=1e-4\n",
    "trace = simulate_orderbook_sequence(\n",
    "    T_exp,\n",
    "    dict(mu_vec=np.array([0.5, 0.5]),\n",
    "         A=np.array([[0.5, 0.35], [0.35, 0.5]]),\n",
    "         betas=np.array([[1., 1.], [1., 1.]])),\n",
    "    dict(permanent=0.0, transient=dict(alphas=np.array([5e-4, 2e-4]),\n",
    "                                       betas=np.array([10., 50.])), rho=1.0),\n",
    "    dict(name='fixed', size=10), initial_price=100, dt_ms=1_000*dt, seed=42\n",
    ")\n",
    "\n",
    "# ---- kernel estimate ----\n",
    "lags, G_nonpar, _ = estimate_propagator_regression(trace, dt=1.0, max_lag=60, ridge=1e-8)\n",
    "alphas, rhos, info = fit_multi_exponential(lags, G_nonpar, n_exp=2)\n",
    "\n",
    "# ---- plot ----\n",
    "t_fine = np.linspace(0, lags[-1], 200)\n",
    "G_fit = sum(a * np.exp(-r * t_fine) for a, r in zip(alphas, rhos))\n",
    "\n",
    "plt.figure(figsize=(4, 2.5))\n",
    "plt.plot(lags, G_nonpar * 1e4, 'o', ms=3, label='non-parametric')\n",
    "plt.plot(t_fine, G_fit * 1e4, '-', label='multi-exp fit')\n",
    "plt.xlabel(\"lag (s)\")\n",
    "plt.ylabel(r\"$G(\\tau)\\,(10^{-4})$\")\n",
    "plt.title(\"Kernel calibration\")\n",
    "plt.legend()\n",
    "plt.grid(alpha=.2)\n",
    "plt.tight_layout()\n",
    "plt.savefig(\"../docs/figures/kernel_true_vs_est.pdf\")\n",
    "plt.show()\n",
    "print(\"experiment matrix complete → docs/figures/ & docs/tables/\")"
   ]
  },
  {
   "cell_type": "code",
   "execution_count": null,
   "id": "a7f600f3-d579-4c3f-877c-f7b6777a1372",
   "metadata": {},
   "outputs": [],
   "source": []
  }
 ],
 "metadata": {
  "kernelspec": {
   "display_name": "Python (opt-exec-venv)",
   "language": "python",
   "name": "opt-exec"
  },
  "language_info": {
   "codemirror_mode": {
    "name": "ipython",
    "version": 3
   },
   "file_extension": ".py",
   "mimetype": "text/x-python",
   "name": "python",
   "nbconvert_exporter": "python",
   "pygments_lexer": "ipython3",
   "version": "3.13.2"
  }
 },
 "nbformat": 4,
 "nbformat_minor": 5
}
