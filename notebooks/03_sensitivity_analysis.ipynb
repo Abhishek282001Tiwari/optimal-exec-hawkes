{
 "cells": [
  {
   "cell_type": "code",
   "execution_count": null,
   "id": "dad8913d",
   "metadata": {
    "vscode": {
     "languageId": "plaintext"
    }
   },
   "outputs": [],
   "source": [
    "# %% md\n",
    "# # 03  Sensitivity Analysis\n",
    "# Heat-maps over branching ratio & resilience speed\n",
    "# %%\n",
    "import numpy as np, pandas as pd, matplotlib.pyplot as plt, os\n",
    "os.makedirs(\"../docs/figures\", exist_ok=True)\n",
    "# %% 1. parameter grid\n",
    "branching = np.linspace(0.2, 0.8, 7)   # alpha/beta\n",
    "resilience = np.linspace(1/60, 1/10, 6)  # rho\n",
    "T, x0 = 3_600, 100_000\n",
    "# %% 2. helpers\n",
    "import sys; sys.path.append(\"..\")\n",
    "from sim.simulate_hawkes import simulate_bivariate_hawkes\n",
    "from sim.simulate_orderflow import simulate_orderbook_sequence\n",
    "from backtest.backtester import run_backtest, hawkes_lq_strategy\n",
    "from models.hawkes_control import compute_feedback_gains\n",
    "\n",
    "def cost_for_params(br, rho):\n",
    "    # Hawkes params\n",
    "    alpha = br; beta = 1.0\n",
    "    mu_vec = np.array([0.5, 0.5])\n",
    "    A = np.array([[alpha, alpha*0.7],[alpha*0.7, alpha]])\n",
    "    betas = np.array([[beta, beta],[beta, beta]])\n",
    "    trace = simulate_orderbook_sequence(\n",
    "        T, dict(mu_vec=mu_vec, A=A, betas=betas),\n",
    "        dict(permanent=0.0, transient=dict(alphas=[5e-4,2e-4], betas=[10,50]), rho=rho),\n",
    "        dict(name='fixed', size=10), initial_price=100, dt_ms=1, seed=42)\n",
    "    # LQ gains\n",
    "    gains = compute_feedback_gains(\n",
    "        np.array([5e-4,2e-4]), np.array([10.,50.]), rho,\n",
    "        np.array([alpha, alpha*0.7]), np.array([beta, beta]), A,\n",
    "        1e-4, 5e-5, 1e-4, T, 120)\n",
    "    res = run_backtest(trace, hawkes_lq_strategy,\n",
    "                       dict(gains=gains,\n",
    "                            propagator_alphas=np.array([5e-4,2e-4]),\n",
    "                            propagator_betas=np.array([10.,50.]),\n",
    "                            propagator_rho=rho,\n",
    "                            hawkes_betas=np.array([beta, beta]),\n",
    "                            hawkes_A=A,\n",
    "                            eta=1e-4, gamma=5e-5),\n",
    "                       x0, T)\n",
    "    return res['costs']['total_cost']\n",
    "# %% 3. sweep\n",
    "records = []\n",
    "for br in branching:\n",
    "    for rho in resilience:\n",
    "        records.append({'branching': br, 'rho': rho,\n",
    "                        'cost': cost_for_params(br, rho)})\n",
    "sens = pd.DataFrame(records)\n",
    "# %% 4. heat-map\n",
    "piv = sens.pivot(index='branching', columns='rho', values='cost')\n",
    "plt.figure(figsize=(4,3))\n",
    "sns = plt.imshow(piv.values, aspect='auto', cmap='viridis_r',\n",
    "                 extent=[resilience[0], resilience[-1], branching[0], branching[-1]])\n",
    "plt.xlabel(r\"resilience speed $\\rho$ (1/s)\")\n",
    "plt.ylabel(r\"branching ratio $\\alpha/\\beta$\")\n",
    "cbar = plt.colorbar(sns); cbar.set_label('cost')\n",
    "plt.tight_layout()\n",
    "plt.savefig(\"../docs/figures/sensitivity_heatmap.pdf\")\n",
    "plt.show()\n",
    "# %% 5. table\n",
    "sens.to_csv(\"../docs/tables/sensitivity_grid.csv\", index=False)\n",
    "sens.groupby('branching').mean().to_latex(\"../docs/tables/sensitivity_branching.tex\")\n",
    "sens.groupby('rho').mean().to_latex(\"../docs/tables/sensitivity_rho.tex\")"
   ]
  }
 ],
 "metadata": {
  "kernelspec": {
   "display_name": "Python (opt-exec-venv)",
   "language": "python",
   "name": "opt-exec"
  },
  "language_info": {
   "codemirror_mode": {
    "name": "ipython",
    "version": 3
   },
   "file_extension": ".py",
   "mimetype": "text/x-python",
   "name": "python",
   "nbconvert_exporter": "python",
   "pygments_lexer": "ipython3",
   "version": "3.13.2"
  }
 },
 "nbformat": 4,
 "nbformat_minor": 5
}
