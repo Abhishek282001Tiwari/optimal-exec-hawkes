{
 "cells": [
  {
   "cell_type": "code",
   "execution_count": null,
   "id": "dd47da04",
   "metadata": {
    "vscode": {
     "languageId": "plaintext"
    }
   },
   "outputs": [],
   "source": [
    "# %% md\n",
    "# # 01  Simulation & Calibration\n",
    "# Simulate Hawkes order-flow → estimate Hawkes MLE → fit propagator kernel\n",
    "# %%\n",
    "import numpy as np, pandas as pd, matplotlib.pyplot as plt, os\n",
    "os.makedirs(\"../docs/figures\", exist_ok=True)\n",
    "# %% 1. simulate\n",
    "import sys; sys.path.append(\"..\")\n",
    "from sim.simulate_hawkes import simulate_hawkes_ogata\n",
    "from sim.simulate_orderflow import simulate_orderbook_sequence\n",
    "T = 3_600  # 1h\n",
    "mu, alpha, beta = 0.1, 0.5, 1.0\n",
    "times, _ = simulate_hawkes_ogata(T, mu, [alpha], [beta], seed=42)\n",
    "print(f\"{len(times)} events\")\n",
    "# %% 2. Hawkes MLE\n",
    "from calib.hawkes_mle import hawkes_mle\n",
    "params, stderr = hawkes_mle(times, kernel=\"exp\")\n",
    "mu_hat, alpha_hat, beta_hat = params['mu'][0], params['alpha'][0], params['beta'][0]\n",
    "print(f\"MLE: μ={mu_hat:.3f}±{stderr['mu'][0]:.3f}  α={alpha_hat:.3f}±{stderr['alpha'][0]:.3f}  β={beta_hat:.3f}±{stderr['beta'][0]:.3f}\")\n",
    "# %% 3. order-flow trace\n",
    "hawkes_p = dict(mu_vec=np.array([mu_hat, mu_hat]),\n",
    "                A=np.array([[0.2,0.15],[0.15,0.2]]),\n",
    "                betas=np.array([[2,2],[2,2]]))\n",
    "prop_p = dict(permanent=0.0,\n",
    "              transient=dict(alphas=np.array([5e-4,2e-4]),\n",
    "                             betas=np.array([10.,50.])),\n",
    "              rho=5.0)\n",
    "trace = simulate_orderbook_sequence(T, hawkes_p, prop_p,\n",
    "                                    dict(name='lognormal',mean=10,std=5),\n",
    "                                    initial_price=100, dt_ms=1, seed=43)\n",
    "trace.to_csv(\"../docs/figures/sample_orderflow.csv\", index=False)\n",
    "print(\"order-flow saved\")\n",
    "# %% 4. propagator estimation\n",
    "from calib.propagator_estimation import estimate_propagator_regression, fit_multi_exponential\n",
    "lags, Gnon = estimate_propagator_regression(trace, max_lag=60)\n",
    "alphas, rhos, info = fit_multi_exponential(lags, Gnon, n_exp=2)\n",
    "print(\"fitted propagator:\", alphas, rhos)\n",
    "# save\n",
    "pd.DataFrame({'lag':lags, 'G':Gnon}).to_csv(\"../docs/figures/kernel_nonpar.csv\", index=False)\n",
    "import pickle, os\n",
    "with open(\"../docs/figures/kernel_fit.pkl\",'wb') as f: pickle.dump({'alphas':alphas,'rhos':rhos, **info}, f)\n",
    "# %% 5. kernel plot\n",
    "t fine = np.linspace(0, lags[-1], 200)\n",
    "Gfit = sum(a*np.exp(-r*t_fine) for a,r in zip(alphas,rhos))\n",
    "plt.figure(figsize=(4,2.5))\n",
    "plt.plot(lags, Gnon*1e4, 'o', ms=3, label='non-parametric')\n",
    "plt.plot(t_fine, Gfit*1e4, '-', label='multi-exp fit')\n",
    "plt.xlabel(\"lag (s)\"); plt.ylabel(r\"$G(\\tau)\\,(10^{-4})$\")\n",
    "plt.legend(); plt.grid(alpha=.2)\n",
    "plt.tight_layout(); plt.savefig(\"../docs/figures/kernel_fit.pdf\")\n",
    "plt.show()"
   ]
  }
 ],
 "metadata": {
  "kernelspec": {
   "display_name": "Python (opt-exec-venv)",
   "language": "python",
   "name": "opt-exec"
  },
  "language_info": {
   "codemirror_mode": {
    "name": "ipython",
    "version": 3
   },
   "file_extension": ".py",
   "mimetype": "text/x-python",
   "name": "python",
   "nbconvert_exporter": "python",
   "pygments_lexer": "ipython3",
   "version": "3.13.2"
  }
 },
 "nbformat": 4,
 "nbformat_minor": 5
}
